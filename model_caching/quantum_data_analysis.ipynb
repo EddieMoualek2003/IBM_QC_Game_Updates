{
 "cells": [
  {
   "cell_type": "markdown",
   "id": "acd4f199",
   "metadata": {},
   "source": [
    "# Necessary Module Imports"
   ]
  },
  {
   "cell_type": "code",
   "execution_count": 51,
   "id": "0b472479",
   "metadata": {},
   "outputs": [],
   "source": [
    "import itertools\n",
    "import pandas as pd\n",
    "import numpy as np\n",
    "import matplotlib.pyplot as plt\n",
    "import seaborn as sns\n",
    "import ast\n",
    "from scipy.spatial.distance import jensenshannon\n",
    "from scipy.special import rel_entr"
   ]
  },
  {
   "cell_type": "markdown",
   "id": "c4343c08",
   "metadata": {},
   "source": [
    "# Data Preprocessing and Excel File Handling"
   ]
  },
  {
   "cell_type": "markdown",
   "id": "4dd62e13",
   "metadata": {},
   "source": [
    "## Constants"
   ]
  },
  {
   "cell_type": "code",
   "execution_count": 52,
   "id": "3e3612ca",
   "metadata": {},
   "outputs": [],
   "source": [
    "number_qubits = 10"
   ]
  },
  {
   "cell_type": "markdown",
   "id": "3094c8a3",
   "metadata": {},
   "source": [
    "## Read in the Excel File"
   ]
  },
  {
   "cell_type": "code",
   "execution_count": 53,
   "id": "3606409c",
   "metadata": {},
   "outputs": [],
   "source": [
    "# The file that holds the results from the local, remote, and quantum runs\n",
    "file_path = \"ghz_10_merged_updated.xlsx\"  # replace with full path if needed\n",
    "# Read the Excel file\n",
    "df = pd.read_excel(file_path, dtype={'Binary': str})"
   ]
  },
  {
   "cell_type": "code",
   "execution_count": 54,
   "id": "27232bcb",
   "metadata": {},
   "outputs": [
    {
     "name": "stdout",
     "output_type": "stream",
     "text": [
      "      Run         Source      Binary  Count\n",
      "0       0          local  0000000000   1669\n",
      "1       0          local  0000000001     70\n",
      "2       0          local  0000000010     31\n",
      "3       0          local  0000000011     10\n",
      "4       0          local  0000000100    181\n",
      "...   ...            ...         ...    ...\n",
      "6929    9  torino_remote  1111111011     48\n",
      "6930    9  torino_remote  1111111100     14\n",
      "6931    9  torino_remote  1111111101     62\n",
      "6932    9  torino_remote  1111111110    208\n",
      "6933    9  torino_remote  1111111111   1389\n",
      "\n",
      "[6934 rows x 4 columns]\n"
     ]
    }
   ],
   "source": [
    "print(df)"
   ]
  },
  {
   "cell_type": "markdown",
   "id": "633eda85",
   "metadata": {
    "vscode": {
     "languageId": "latex"
    }
   },
   "source": [
    "## Process the `DataFrame`\n",
    "\n",
    "This is done by:\n",
    "\n",
    "- Grouping the data by `'Source'` and `'Binary'`\n",
    "- Compensating for any missing states by padding with zeros\n",
    "- Calculating the mean, probability, variance, and standard deviation for each group\n",
    "- Converting the processed data into a new `DataFrame`\n"
   ]
  },
  {
   "cell_type": "code",
   "execution_count": 55,
   "id": "4042114c",
   "metadata": {},
   "outputs": [],
   "source": [
    "# Step 1: Generate all possible 10-bit states\n",
    "all_states = [''.join(bits) for bits in itertools.product('01', repeat=10)]\n",
    "\n",
    "# Step 2: Get all unique sources\n",
    "unique_sources = df['Source'].unique()\n",
    "\n",
    "# Step 3: Group the data\n",
    "groupedData = df.groupby(['Source', 'Binary'])['Count']\n",
    "\n",
    "# Step 4: Convert existing groups to a set of present keys\n",
    "existing_keys = set(groupedData.groups.keys())\n",
    "\n",
    "# Step 5: Process all Source × Bitstring pairs\n",
    "processed_df_list = []\n",
    "\n",
    "for source in unique_sources:\n",
    "    for bitstring in all_states:\n",
    "        key = (source, bitstring)\n",
    "        if key in existing_keys:\n",
    "            x = groupedData.get_group(key).values.tolist()\n",
    "        else:\n",
    "            x = [0] * 10  # Fill missing with zeros\n",
    "\n",
    "        if len(x) < 10:\n",
    "            x += [0] * (10 - len(x))  # Pad if needed\n",
    "\n",
    "        count_array = np.array(x)\n",
    "        processed_df_list.append({\n",
    "            'Source': source,\n",
    "            'Bitstring': bitstring,\n",
    "            'Mean': np.mean(count_array),\n",
    "            'Probability': np.mean(count_array) / 4096,\n",
    "            'Variance': np.var(count_array),\n",
    "            'StdDev': np.std(count_array),\n",
    "            'MissingValues': 10 - len(x) if key in existing_keys else 10,\n",
    "            'RawTotal': np.sum(count_array),\n",
    "            'RawValues': x\n",
    "        })\n",
    "\n",
    "# Step 6: Final DataFrame\n",
    "processed_df = pd.DataFrame(processed_df_list)\n",
    "complete_df = processed_df"
   ]
  },
  {
   "cell_type": "code",
   "execution_count": 56,
   "id": "4b3c4bcb",
   "metadata": {},
   "outputs": [],
   "source": [
    "processed_df.to_excel(\"output.xlsx\", index=False)"
   ]
  },
  {
   "cell_type": "markdown",
   "id": "5abed7ad",
   "metadata": {},
   "source": [
    "##  Now, we compare the data as groups based on the bitstrings:\n",
    " - The data is grouped into bitstring groups.\n",
    " - Each one will have 6 elements - one for each source.\n",
    " - We will then average each bitstring, and pick the 3-5 most occuring ones,\n",
    "    - These will form the basis for data analysis.\n",
    "    - The others will be analysed for a general understanding/comparison between local and remote.\n",
    " - Then, the relavent rows of the dataframe will be passed to plot things like a box and whisker plot."
   ]
  },
  {
   "cell_type": "code",
   "execution_count": 57,
   "id": "43cc60e2",
   "metadata": {},
   "outputs": [
    {
     "name": "stdout",
     "output_type": "stream",
     "text": [
      "['0000000000', '1111111111', '0000000001', '1111111110', '1111111011']\n",
      "All Elements Accounted For\n"
     ]
    }
   ],
   "source": [
    "groupedData = complete_df.groupby(['Bitstring'])\n",
    "average_mean_array = []\n",
    "for group_name, group_df in groupedData:\n",
    "    # print(f\"Processing group: {group_name} - Data: \\n{group_df}\")\n",
    "    \n",
    "    bitstring_name = group_df['Bitstring'].values[0]\n",
    "    average_mean = group_df['Mean'].mean()\n",
    "    # print(f\"Bitstring {bitstring_name} with mean: {average_mean}\")\n",
    "    average_mean_array.append([bitstring_name, average_mean])\n",
    "\n",
    "sorted_mean_array = sorted_data = sorted(average_mean_array, key=lambda x: x[1], reverse=True)\n",
    "selected_states = [pair[0] for pair in sorted_mean_array[0:5]]\n",
    "print(selected_states)\n",
    "if len(sorted_mean_array) == 2**number_qubits:\n",
    "    print(\"All Elements Accounted For\")"
   ]
  },
  {
   "cell_type": "code",
   "execution_count": 58,
   "id": "57d18537",
   "metadata": {},
   "outputs": [
    {
     "data": {
      "image/png": "[encoded data removed]",
      "text/plain": [
       "<Figure size 1000x600 with 1 Axes>"
      ]
     },
     "metadata": {},
     "output_type": "display_data"
    }
   ],
   "source": [
    "def plot_data(selected_states, complete_df, show_debug=False):\n",
    "    \"\"\"\n",
    "    Plot box-and-whisker plots of RawValues for each selected bitstring,\n",
    "    grouped by Source.\n",
    "\n",
    "    Parameters:\n",
    "    - selected_states: List of bitstrings (e.g., ['0000011111', '0000011110'])\n",
    "    - complete_df: The full DataFrame containing 'Bitstring', 'Source', 'RawValues'\n",
    "    - show_debug: If True, prints raw grouped data before plotting\n",
    "    \"\"\"\n",
    "\n",
    "    # Filter to only selected bitstrings\n",
    "    plotting_df = complete_df[complete_df['Bitstring'].isin(selected_states)].copy()\n",
    "\n",
    "    # Debug output: print grouped data\n",
    "    if show_debug:\n",
    "        grouped = plotting_df.groupby('Bitstring')\n",
    "        for group_name, group_df in grouped:\n",
    "            print(f\"\\nProcessing group: {group_name} - Data:\\n{group_df}\")\n",
    "\n",
    "    # Ensure RawValues is a list (parse if stored as string)\n",
    "    plotting_df['RawValues'] = plotting_df['RawValues'].apply(\n",
    "        lambda x: ast.literal_eval(x) if isinstance(x, str) else x\n",
    "    )\n",
    "\n",
    "    # Explode the list of RawValues into separate rows\n",
    "    exploded_df = plotting_df.explode('RawValues')\n",
    "    exploded_df['RawValues'] = exploded_df['RawValues'].astype(float)\n",
    "\n",
    "    # Plot\n",
    "    plt.figure(figsize=(10, 6))\n",
    "    sns.boxplot(data=exploded_df, x='Bitstring', y='RawValues', hue='Source')\n",
    "    plt.title(\"Raw Count Distributions per Source for Selected States\")\n",
    "    plt.xlabel(\"Bitstring (State)\")\n",
    "    plt.ylabel(\"Raw Counts\")\n",
    "    plt.legend(title=\"Source\")\n",
    "    plt.grid(True)\n",
    "    plt.tight_layout()\n",
    "    plt.show()\n",
    "\n",
    "plot_data(selected_states, complete_df, show_debug=False)"
   ]
  },
  {
   "cell_type": "markdown",
   "id": "6182611f",
   "metadata": {},
   "source": [
    "## Compute Divergence Parameters"
   ]
  },
  {
   "cell_type": "code",
   "execution_count": 59,
   "id": "e7b5dbc0",
   "metadata": {},
   "outputs": [
    {
     "name": "stdout",
     "output_type": "stream",
     "text": [
      "Running KL Analysis\n",
      "KL - Source: ('brisbane_remote',) compared with ('quantum',) Result: 0.27067656954511654\n",
      "KL - Source: ('local',) compared with ('quantum',) Result: 0.2924737468151833\n",
      "KL - Source: ('sherbrooke_remote',) compared with ('quantum',) Result: 1.2341096844360941\n",
      "KL - Source: ('torino_remote',) compared with ('quantum',) Result: 0.19133146429218484\n",
      "Running JS Analysis\n",
      "JS - Source: ('brisbane_remote',) compared with ('quantum',) Result: 0.0963896978970321\n",
      "JS - Source: ('local',) compared with ('quantum',) Result: 0.11791369055986121\n",
      "JS - Source: ('sherbrooke_remote',) compared with ('quantum',) Result: 0.2018479842368083\n",
      "JS - Source: ('torino_remote',) compared with ('quantum',) Result: 0.05153356317825912\n"
     ]
    },
    {
     "data": {
      "text/plain": [
       "0"
      ]
     },
     "execution_count": 59,
     "metadata": {},
     "output_type": "execute_result"
    }
   ],
   "source": [
    "def js_divergence(p, q, base=2):\n",
    "    \"\"\"\n",
    "    Calculate Jensen-Shannon divergence between two probability distributions.\n",
    "    \n",
    "    Returns a value between 0 and 1.\n",
    "    \"\"\"\n",
    "    p = np.asarray(p, dtype=np.float64)\n",
    "    q = np.asarray(q, dtype=np.float64)\n",
    "\n",
    "    # Normalize to make sure they're valid probability distributions\n",
    "    p /= p.sum()\n",
    "    q /= q.sum()\n",
    "\n",
    "    js = jensenshannon(p, q, base=base)  # returns sqrt(JS)\n",
    "    return js**2  # return actual JS divergence\n",
    "\n",
    "def kl_divergence(p, q):\n",
    "    \"\"\"\n",
    "    Calculate Kullback-Leibler divergence from p to q: D_KL(p || q).\n",
    "    \n",
    "    Note: p and q must be the same length and have no zero in q where p is non-zero.\n",
    "    \"\"\"\n",
    "    p = np.asarray(p, dtype=np.float64)\n",
    "    q = np.asarray(q, dtype=np.float64)\n",
    "\n",
    "    # Normalize to ensure probabilities\n",
    "    p /= p.sum()\n",
    "    q /= q.sum()\n",
    "\n",
    "    # Smooth to avoid log(0) and division by 0\n",
    "    eps = 1e-12\n",
    "    p = np.clip(p, eps, 1)\n",
    "    q = np.clip(q, eps, 1)\n",
    "\n",
    "    return np.sum(rel_entr(p, q))  # = sum(p * log(p / q))\n",
    "\n",
    "def divergence_prep(complete_df):\n",
    "    groupedData = complete_df.groupby(['Source'])['Mean']\n",
    "    distribution = []\n",
    "    for n, d in groupedData:\n",
    "        distribution.append([n, d.values.tolist()])\n",
    "\n",
    "    print(\"Running KL Analysis\")\n",
    "    for i in range(len(distribution)):\n",
    "        if i != 2 and i != 3: # This is the set for the quantum computer.\n",
    "            print(f\"KL - Source: {distribution[i][0]} compared with {distribution[2][0]} Result: {kl_divergence(distribution[i][1], distribution[2][1])}\")\n",
    "            \n",
    "    print(\"Running JS Analysis\")\n",
    "    for i in range(len(distribution)):\n",
    "        if i != 2 and i != 3: # This is the set for the quantum computer.\n",
    "            print(f\"JS - Source: {distribution[i][0]} compared with {distribution[2][0]} Result: {js_divergence(distribution[i][1], distribution[2][1])}\")\n",
    "            \n",
    "\n",
    "    return 0\n",
    "\n",
    "divergence_prep(complete_df)"
   ]
  }
 ],
 "metadata": {
  "kernelspec": {
   "display_name": "Python 3",
   "language": "python",
   "name": "python3"
  },
  "language_info": {
   "codemirror_mode": {
    "name": "ipython",
    "version": 3
   },
   "file_extension": ".py",
   "mimetype": "text/x-python",
   "name": "python",
   "nbconvert_exporter": "python",
   "pygments_lexer": "ipython3",
   "version": "3.13.4"
  }
 },
 "nbformat": 4,
 "nbformat_minor": 5
}
